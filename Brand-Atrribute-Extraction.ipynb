{
 "cells": [
  {
   "cell_type": "markdown",
   "metadata": {},
   "source": [
    "# <center> Text Analytics Group Assignment #1\n",
    "\n",
    "## Brand Atrribute Extraction"
   ]
  },
  {
   "cell_type": "code",
   "execution_count": 3,
   "metadata": {},
   "outputs": [],
   "source": [
    "#Importing packages\n",
    "from selenium import webdriver\n",
    "import pandas as pd\n",
    "import nltk\n",
    "from collections import Counter \n",
    "import itertools\n",
    "import numpy as np\n",
    "import matplotlib.pyplot as plt\n",
    "from sklearn import manifold\n",
    "import string\n",
    "import seaborn as sns\n",
    "from nltk.tokenize import RegexpTokenizer\n",
    "#nltk.download('stopwords')\n",
    "#nltk.download('punkt')\n",
    "import string\n",
    "import operator\n",
    "import io\n",
    "\n",
    "\n",
    "#Only run if first time using NLTK\n",
    "#nltk.download()"
   ]
  },
  {
   "cell_type": "markdown",
   "metadata": {},
   "source": [
    "## Scrape Edmunds & Save Comments in .csv"
   ]
  },
  {
   "cell_type": "markdown",
   "metadata": {},
   "source": [
    "**Forum link: https://forums.edmunds.com/discussion/7526/general/x/midsize-sedans-2-0/p540**"
   ]
  },
  {
   "cell_type": "code",
   "execution_count": null,
   "metadata": {},
   "outputs": [],
   "source": [
    "#Change path of driver\n",
    "#Note: if scraper not working, check that version of driver matches version of Chrome\n",
    "driver = webdriver.Chrome('C:/Users/rmead/Downloads/chromedriver_1')"
   ]
  },
  {
   "cell_type": "code",
   "execution_count": null,
   "metadata": {},
   "outputs": [],
   "source": [
    "# Create DataFrame \n",
    "comments = pd.DataFrame(columns = ['Date','user_id','comments'])\n",
    "\n",
    "\n",
    "#Srape Dates, Usernames, and Comments from most recent 100 pages (about 5000 comments)\n",
    "for i in range(440,540):\n",
    "    \n",
    "    #address where scraping\n",
    "    webpage = 'https://forums.edmunds.com/discussion/7526/general/x/midsize-sedans-2-0/p' + str(i)\n",
    "    driver.get(webpage)\n",
    "\n",
    "    ids = driver.find_elements_by_xpath(\"//*[contains(@id,'Comment_')]\")\n",
    "\n",
    "    comment_ids = []\n",
    "\n",
    "    for i in ids:\n",
    "        comment_ids.append(i.get_attribute('id'))\n",
    "\n",
    "    #check if there is a blockquote (used in replies to comments) and remove\n",
    "    for x in comment_ids: \n",
    "        try:\n",
    "            element = driver.find_elements_by_xpath('//*[@id=\"' + x +'\"]/div/div[3]/div/div[1]/blockquote')[0]\n",
    "            driver.execute_script(\"\"\"\n",
    "                var element = arguments[0];\n",
    "                element.parentNode.removeChild(element);\n",
    "                \"\"\", element)\n",
    "        except:\n",
    "            pass    \n",
    "    \n",
    "    for x in comment_ids:\n",
    "        \n",
    "        #Extract dates from for each user on a page\n",
    "        user_date = driver.find_elements_by_xpath('//*[@id=\"' + x +'\"]/div/div[2]/div[2]/span[1]/a/time')[0]\n",
    "        date = user_date.get_attribute('title')\n",
    "\n",
    "        #Extract user ids from each user on a page\n",
    "        userid_element = driver.find_elements_by_xpath('//*[@id=\"' + x +'\"]/div/div[2]/div[1]/span[1]/a[2]')[0]\n",
    "        userid = userid_element.text\n",
    "\n",
    "        #Extract Message for each user on a page\n",
    "        user_message = driver.find_elements_by_xpath('//*[@id=\"' + x +'\"]/div/div[3]/div/div[1]')[0]\n",
    "            \n",
    "        comment = user_message.text\n",
    "\n",
    "                                   \n",
    "        #Adding date, userid and comment for each user in a dataframe    \n",
    "        comments.loc[len(comments)] = [date,userid,comment]"
   ]
  },
  {
   "cell_type": "code",
   "execution_count": null,
   "metadata": {},
   "outputs": [],
   "source": [
    "#write to CSV \n",
    "#comments.to_csv('Edmunds_scraped2.0.csv')"
   ]
  },
  {
   "cell_type": "markdown",
   "metadata": {},
   "source": [
    "## Tokenize Words in Comments & Remove Stop Words"
   ]
  },
  {
   "cell_type": "code",
   "execution_count": 6,
   "metadata": {},
   "outputs": [],
   "source": [
    "#If working from CSV instead of scraping originally, read in CSV\n",
    "comments = pd.read_csv('Edmunds_scraped2.0.csv',  index_col=0)\n",
    "\n",
    "#Nulls don't play well with the tokenizer, so drop nulls\n",
    "comments.dropna(inplace=True)"
   ]
  },
  {
   "cell_type": "code",
   "execution_count": 7,
   "metadata": {
    "scrolled": true
   },
   "outputs": [],
   "source": [
    "#Create new column in DataFrame of word tokens from comments\n",
    "comments['Tokens'] = comments['comments'].apply(nltk.tokenize.word_tokenize)"
   ]
  },
  {
   "cell_type": "code",
   "execution_count": 8,
   "metadata": {},
   "outputs": [],
   "source": [
    "#Define Stop Words & Update to include some punctuation and car(s)\n",
    "stop_words = nltk.corpus.stopwords.words('english')+ list(string.punctuation)\n",
    "#stop_words.update([',','.',':',\"'s\",\"n't\",'?',')','(','the','...'])\n",
    "#stop_words = list(stop_words)\n",
    "\n",
    "def removeSW(word_tokens):\n",
    "    filtered_sentence = []\n",
    "    for w in word_tokens:\n",
    "        if w.lower() not in stop_words:\n",
    "            filtered_sentence.append(w)\n",
    "    return filtered_sentence\n",
    "\n",
    "#Apply the removeSW function to the word tokens in the 'comments' DF\n",
    "comments['Tokens'] = comments['Tokens'].apply(removeSW)"
   ]
  },
  {
   "cell_type": "markdown",
   "metadata": {},
   "source": [
    "## Replace Car Models with their Corresponding Brands"
   ]
  },
  {
   "cell_type": "code",
   "execution_count": 9,
   "metadata": {},
   "outputs": [],
   "source": [
    "#Read in modified 'models.csv'\n",
    "#The version of this csv that is being used has removed the strange rows (ex: seat, seats)\n",
    "#And it has standardized the brand names (ex: both Marcedes and Mercedes-Benz are now 'mercedes') \n",
    "models = pd.read_csv('models.csv', header=None, names=['Make','Model'])\n",
    "\n",
    "#Create a list of all Models\n",
    "models_list = models['Model'].tolist()"
   ]
  },
  {
   "cell_type": "code",
   "execution_count": 10,
   "metadata": {},
   "outputs": [],
   "source": [
    "#Define a function to clean tokens & replace models with Brands\n",
    "def token_cleaner(row):\n",
    "    clean_tokens = []\n",
    "    list_row = list(row) #Set --> List\n",
    "    for word in list_row:\n",
    "        word = word.lower()\n",
    "        if word in models_list: #Change any models that appear to their corresponding Brands\n",
    "            word = models['Make'][models['Model']==word].tolist()[0]\n",
    "            if word not in clean_tokens:\n",
    "                clean_tokens.append(word.lower())\n",
    "        else: \n",
    "            if word not in clean_tokens: \n",
    "                clean_tokens.append(word.lower())\n",
    "    clean_tokens = [x.lower() for x in clean_tokens]\n",
    "    return clean_tokens\n",
    "\n",
    "comments['Tokens'] = comments['Tokens'].apply(token_cleaner)\n",
    "# print(comments['Tokens'][0:10])"
   ]
  },
  {
   "cell_type": "markdown",
   "metadata": {},
   "source": [
    "## Create a Word Frequency Dictionary for Brands in Comments"
   ]
  },
  {
   "cell_type": "code",
   "execution_count": 11,
   "metadata": {},
   "outputs": [],
   "source": [
    "#Initialize empty dictionary \n",
    "words_dict = dict()\n",
    "\n",
    "#Iterate over each row of tokens and track frequency in the 'words_dict' dictionary\n",
    "for row in comments['Tokens']:\n",
    "    list_row = list(row) #Set --> List\n",
    "    for word in row:\n",
    "        word = word.lower() #Remove any capitalization\n",
    "        if word in models_list: #Change any models that appear to their corresponding Brands\n",
    "            word = models['Make'][models['Model']==word].tolist()[0]\n",
    "                \n",
    "        if word in words_dict:\n",
    "            words_dict[word] += 1\n",
    "        else:\n",
    "            words_dict[word] = 1"
   ]
  },
  {
   "cell_type": "markdown",
   "metadata": {},
   "source": [
    "## Identify top 10 Brands by Frequency "
   ]
  },
  {
   "cell_type": "code",
   "execution_count": 12,
   "metadata": {},
   "outputs": [
    {
     "name": "stdout",
     "output_type": "stream",
     "text": [
      "\n",
      " \u001b[1mBrands with Highest Frequency:\u001b[0m\n"
     ]
    },
    {
     "data": {
      "text/html": [
       "<div>\n",
       "<style scoped>\n",
       "    .dataframe tbody tr th:only-of-type {\n",
       "        vertical-align: middle;\n",
       "    }\n",
       "\n",
       "    .dataframe tbody tr th {\n",
       "        vertical-align: top;\n",
       "    }\n",
       "\n",
       "    .dataframe thead th {\n",
       "        text-align: right;\n",
       "    }\n",
       "</style>\n",
       "<table border=\"1\" class=\"dataframe\">\n",
       "  <thead>\n",
       "    <tr style=\"text-align: right;\">\n",
       "      <th></th>\n",
       "      <th>Frequency</th>\n",
       "    </tr>\n",
       "  </thead>\n",
       "  <tbody>\n",
       "    <tr>\n",
       "      <th>honda</th>\n",
       "      <td>1424</td>\n",
       "    </tr>\n",
       "    <tr>\n",
       "      <th>ford</th>\n",
       "      <td>804</td>\n",
       "    </tr>\n",
       "    <tr>\n",
       "      <th>toyota</th>\n",
       "      <td>731</td>\n",
       "    </tr>\n",
       "    <tr>\n",
       "      <th>hyundai</th>\n",
       "      <td>565</td>\n",
       "    </tr>\n",
       "    <tr>\n",
       "      <th>mazda</th>\n",
       "      <td>418</td>\n",
       "    </tr>\n",
       "    <tr>\n",
       "      <th>nissan</th>\n",
       "      <td>390</td>\n",
       "    </tr>\n",
       "    <tr>\n",
       "      <th>chevrolet</th>\n",
       "      <td>350</td>\n",
       "    </tr>\n",
       "    <tr>\n",
       "      <th>kia</th>\n",
       "      <td>339</td>\n",
       "    </tr>\n",
       "    <tr>\n",
       "      <th>volkswagen</th>\n",
       "      <td>322</td>\n",
       "    </tr>\n",
       "    <tr>\n",
       "      <th>subaru</th>\n",
       "      <td>302</td>\n",
       "    </tr>\n",
       "  </tbody>\n",
       "</table>\n",
       "</div>"
      ],
      "text/plain": [
       "           Frequency\n",
       "honda           1424\n",
       "ford             804\n",
       "toyota           731\n",
       "hyundai          565\n",
       "mazda            418\n",
       "nissan           390\n",
       "chevrolet        350\n",
       "kia              339\n",
       "volkswagen       322\n",
       "subaru           302"
      ]
     },
     "metadata": {},
     "output_type": "display_data"
    }
   ],
   "source": [
    "top_makes = dict()\n",
    "for i in words_dict: \n",
    "    if i in list(set(models['Make'])):\n",
    "        top_makes[i] = words_dict[i]\n",
    "\n",
    "k = Counter(top_makes) \n",
    "high = k.most_common(10) \n",
    "\n",
    "top_brands = []\n",
    "for i in high:\n",
    "    top_brands.append(i[0])\n",
    "\n",
    "df_freq = pd.DataFrame(index=top_brands, columns=['Frequency'])\n",
    "\n",
    "for i in range(0,len(high)):\n",
    "    df_freq['Frequency'][i] = high[i][1]\n",
    "\n",
    "print('\\n \\033[1m' + 'Brands with Highest Frequency:' + '\\033[0m')    \n",
    "display(df_freq)"
   ]
  },
  {
   "cell_type": "markdown",
   "metadata": {},
   "source": [
    "## Calculate Lift Ratios for Associations Between Brands"
   ]
  },
  {
   "cell_type": "code",
   "execution_count": 13,
   "metadata": {},
   "outputs": [],
   "source": [
    "#Create a list of the unique combinations of 2 brands that appeared in the top 10 most frequent list\n",
    "top_brand_combos = list(itertools.combinations(top_brands,2))"
   ]
  },
  {
   "cell_type": "code",
   "execution_count": 15,
   "metadata": {},
   "outputs": [],
   "source": [
    "#Define a function that will calculate Lift\n",
    "def liftCalc(word_1,word_2):\n",
    "    w1freq = sum(comments.apply(lambda x: word_1 in x['Tokens'], axis=1))\n",
    "    w2freq = sum(comments.apply(lambda x: word_2 in x['Tokens'], axis=1))\n",
    "    bothfreq = sum(comments.apply(lambda x: word_1 in x['Tokens'] and word_2 in x['Tokens'], axis=1))\n",
    "    return float(bothfreq/len(comments))/((float(w1freq)/len(comments))*(float(w2freq)/len(comments)))"
   ]
  },
  {
   "cell_type": "code",
   "execution_count": 16,
   "metadata": {
    "scrolled": false
   },
   "outputs": [],
   "source": [
    "#Initialize empty dictionary for lift values\n",
    "brand_lifts = dict()\n",
    "\n",
    "#iterate over brand combinations, calculate lift, save to dictionary\n",
    "for i in range(0,len(top_brand_combos)): \n",
    "    a,b = top_brand_combos[i]\n",
    "    brands = (a,b)\n",
    "    lift = liftCalc(a,b)\n",
    "    brand_lifts[brands] = lift"
   ]
  },
  {
   "cell_type": "code",
   "execution_count": 17,
   "metadata": {},
   "outputs": [],
   "source": [
    "df_lifts = pd.DataFrame(columns=top_brands,index=top_brands)\n",
    "for brand in top_brands: \n",
    "    df_lifts[brand][brand] = '-'\n",
    "for brands in brand_lifts:\n",
    "    a,b = brands\n",
    "    df_lifts[a][b] = (brand_lifts[brands])\n",
    "    df_lifts[b][a] = '-'"
   ]
  },
  {
   "cell_type": "code",
   "execution_count": 18,
   "metadata": {},
   "outputs": [
    {
     "data": {
      "text/html": [
       "<div>\n",
       "<style scoped>\n",
       "    .dataframe tbody tr th:only-of-type {\n",
       "        vertical-align: middle;\n",
       "    }\n",
       "\n",
       "    .dataframe tbody tr th {\n",
       "        vertical-align: top;\n",
       "    }\n",
       "\n",
       "    .dataframe thead th {\n",
       "        text-align: right;\n",
       "    }\n",
       "</style>\n",
       "<table border=\"1\" class=\"dataframe\">\n",
       "  <thead>\n",
       "    <tr style=\"text-align: right;\">\n",
       "      <th></th>\n",
       "      <th>honda</th>\n",
       "      <th>ford</th>\n",
       "      <th>toyota</th>\n",
       "      <th>hyundai</th>\n",
       "      <th>mazda</th>\n",
       "      <th>nissan</th>\n",
       "      <th>chevrolet</th>\n",
       "      <th>kia</th>\n",
       "      <th>volkswagen</th>\n",
       "      <th>subaru</th>\n",
       "    </tr>\n",
       "  </thead>\n",
       "  <tbody>\n",
       "    <tr>\n",
       "      <th>honda</th>\n",
       "      <td>-</td>\n",
       "      <td>-</td>\n",
       "      <td>-</td>\n",
       "      <td>-</td>\n",
       "      <td>-</td>\n",
       "      <td>-</td>\n",
       "      <td>-</td>\n",
       "      <td>-</td>\n",
       "      <td>-</td>\n",
       "      <td>-</td>\n",
       "    </tr>\n",
       "    <tr>\n",
       "      <th>ford</th>\n",
       "      <td>1.28726</td>\n",
       "      <td>-</td>\n",
       "      <td>-</td>\n",
       "      <td>-</td>\n",
       "      <td>-</td>\n",
       "      <td>-</td>\n",
       "      <td>-</td>\n",
       "      <td>-</td>\n",
       "      <td>-</td>\n",
       "      <td>-</td>\n",
       "    </tr>\n",
       "    <tr>\n",
       "      <th>toyota</th>\n",
       "      <td>2.19547</td>\n",
       "      <td>1.93154</td>\n",
       "      <td>-</td>\n",
       "      <td>-</td>\n",
       "      <td>-</td>\n",
       "      <td>-</td>\n",
       "      <td>-</td>\n",
       "      <td>-</td>\n",
       "      <td>-</td>\n",
       "      <td>-</td>\n",
       "    </tr>\n",
       "    <tr>\n",
       "      <th>hyundai</th>\n",
       "      <td>1.6647</td>\n",
       "      <td>1.75371</td>\n",
       "      <td>2.54366</td>\n",
       "      <td>-</td>\n",
       "      <td>-</td>\n",
       "      <td>-</td>\n",
       "      <td>-</td>\n",
       "      <td>-</td>\n",
       "      <td>-</td>\n",
       "      <td>-</td>\n",
       "    </tr>\n",
       "    <tr>\n",
       "      <th>mazda</th>\n",
       "      <td>1.68133</td>\n",
       "      <td>1.79265</td>\n",
       "      <td>2.39533</td>\n",
       "      <td>2.6142</td>\n",
       "      <td>-</td>\n",
       "      <td>-</td>\n",
       "      <td>-</td>\n",
       "      <td>-</td>\n",
       "      <td>-</td>\n",
       "      <td>-</td>\n",
       "    </tr>\n",
       "    <tr>\n",
       "      <th>nissan</th>\n",
       "      <td>2.00824</td>\n",
       "      <td>2.42948</td>\n",
       "      <td>3.40561</td>\n",
       "      <td>3.32159</td>\n",
       "      <td>3.29856</td>\n",
       "      <td>-</td>\n",
       "      <td>-</td>\n",
       "      <td>-</td>\n",
       "      <td>-</td>\n",
       "      <td>-</td>\n",
       "    </tr>\n",
       "    <tr>\n",
       "      <th>chevrolet</th>\n",
       "      <td>1.63835</td>\n",
       "      <td>2.33557</td>\n",
       "      <td>2.64664</td>\n",
       "      <td>2.84514</td>\n",
       "      <td>2.99489</td>\n",
       "      <td>3.61114</td>\n",
       "      <td>-</td>\n",
       "      <td>-</td>\n",
       "      <td>-</td>\n",
       "      <td>-</td>\n",
       "    </tr>\n",
       "    <tr>\n",
       "      <th>kia</th>\n",
       "      <td>1.6812</td>\n",
       "      <td>2.33828</td>\n",
       "      <td>2.49142</td>\n",
       "      <td>4.62715</td>\n",
       "      <td>3.02179</td>\n",
       "      <td>3.80364</td>\n",
       "      <td>3.73477</td>\n",
       "      <td>-</td>\n",
       "      <td>-</td>\n",
       "      <td>-</td>\n",
       "    </tr>\n",
       "    <tr>\n",
       "      <th>volkswagen</th>\n",
       "      <td>1.72653</td>\n",
       "      <td>2.05785</td>\n",
       "      <td>2.17874</td>\n",
       "      <td>3.42096</td>\n",
       "      <td>3.51426</td>\n",
       "      <td>3.60797</td>\n",
       "      <td>3.4018</td>\n",
       "      <td>3.5578</td>\n",
       "      <td>-</td>\n",
       "      <td>-</td>\n",
       "    </tr>\n",
       "    <tr>\n",
       "      <th>subaru</th>\n",
       "      <td>1.69036</td>\n",
       "      <td>2.31717</td>\n",
       "      <td>2.84177</td>\n",
       "      <td>3.06391</td>\n",
       "      <td>3.70755</td>\n",
       "      <td>3.59327</td>\n",
       "      <td>3.53288</td>\n",
       "      <td>3.55025</td>\n",
       "      <td>4.6081</td>\n",
       "      <td>-</td>\n",
       "    </tr>\n",
       "  </tbody>\n",
       "</table>\n",
       "</div>"
      ],
      "text/plain": [
       "              honda     ford   toyota  hyundai    mazda   nissan chevrolet  \\\n",
       "honda             -        -        -        -        -        -         -   \n",
       "ford        1.28726        -        -        -        -        -         -   \n",
       "toyota      2.19547  1.93154        -        -        -        -         -   \n",
       "hyundai      1.6647  1.75371  2.54366        -        -        -         -   \n",
       "mazda       1.68133  1.79265  2.39533   2.6142        -        -         -   \n",
       "nissan      2.00824  2.42948  3.40561  3.32159  3.29856        -         -   \n",
       "chevrolet   1.63835  2.33557  2.64664  2.84514  2.99489  3.61114         -   \n",
       "kia          1.6812  2.33828  2.49142  4.62715  3.02179  3.80364   3.73477   \n",
       "volkswagen  1.72653  2.05785  2.17874  3.42096  3.51426  3.60797    3.4018   \n",
       "subaru      1.69036  2.31717  2.84177  3.06391  3.70755  3.59327   3.53288   \n",
       "\n",
       "                kia volkswagen subaru  \n",
       "honda             -          -      -  \n",
       "ford              -          -      -  \n",
       "toyota            -          -      -  \n",
       "hyundai           -          -      -  \n",
       "mazda             -          -      -  \n",
       "nissan            -          -      -  \n",
       "chevrolet         -          -      -  \n",
       "kia               -          -      -  \n",
       "volkswagen   3.5578          -      -  \n",
       "subaru      3.55025     4.6081      -  "
      ]
     },
     "execution_count": 18,
     "metadata": {},
     "output_type": "execute_result"
    }
   ],
   "source": [
    "#Lift values for brand associations\n",
    "df_lifts"
   ]
  },
  {
   "cell_type": "code",
   "execution_count": 19,
   "metadata": {},
   "outputs": [
    {
     "name": "stdout",
     "output_type": "stream",
     "text": [
      "\u001b[1mBrand Combinations With Highest Lift:\u001b[0m\n",
      "('hyundai', 'kia'): 4.627154\n",
      "('volkswagen', 'subaru'): 4.608099\n",
      "('nissan', 'kia'): 3.803638\n",
      "('chevrolet', 'kia'): 3.734775\n",
      "('mazda', 'subaru'): 3.707548\n",
      "('nissan', 'chevrolet'): 3.611143\n",
      "('nissan', 'volkswagen'): 3.607971\n",
      "('nissan', 'subaru'): 3.593267\n",
      "('kia', 'volkswagen'): 3.557797\n",
      "('kia', 'subaru'): 3.550245\n"
     ]
    }
   ],
   "source": [
    "d = Counter(brand_lifts)\n",
    "\n",
    "print('\\033[1m' + 'Brand Combinations With Highest Lift:' + '\\033[0m')\n",
    "for k, v in d.most_common(10):\n",
    "    print('%s: %.6f' % (k, v))"
   ]
  },
  {
   "cell_type": "code",
   "execution_count": 20,
   "metadata": {},
   "outputs": [
    {
     "name": "stdout",
     "output_type": "stream",
     "text": [
      "\u001b[1mBrand Combinations With Lowest Lift:\u001b[0m\n",
      "('honda', 'nissan'): 2.008240\n",
      "('ford', 'toyota'): 1.931539\n",
      "('ford', 'mazda'): 1.792649\n",
      "('ford', 'hyundai'): 1.753709\n",
      "('honda', 'volkswagen'): 1.726527\n",
      "('honda', 'subaru'): 1.690355\n",
      "('honda', 'mazda'): 1.681326\n",
      "('honda', 'kia'): 1.681203\n",
      "('honda', 'hyundai'): 1.664700\n",
      "('honda', 'chevrolet'): 1.638355\n"
     ]
    }
   ],
   "source": [
    "print('\\033[1m' + 'Brand Combinations With Lowest Lift:' + '\\033[0m')\n",
    "for k, v in d.most_common()[-11:-1]:\n",
    "    print('%s: %.6f' % (k, v))"
   ]
  },
  {
   "cell_type": "markdown",
   "metadata": {},
   "source": [
    "## Create MDS Map for Top 10 Brands"
   ]
  },
  {
   "cell_type": "code",
   "execution_count": 21,
   "metadata": {},
   "outputs": [],
   "source": [
    "top_brand_lifts = pd.DataFrame(columns=top_brands,index=top_brands)"
   ]
  },
  {
   "cell_type": "code",
   "execution_count": 22,
   "metadata": {},
   "outputs": [],
   "source": [
    "for brands in brand_lifts:\n",
    "    a,b = brands\n",
    "    top_brand_lifts[a][b] = (1/brand_lifts[brands])\n",
    "    top_brand_lifts[b][a] = (1/brand_lifts[brands])"
   ]
  },
  {
   "cell_type": "code",
   "execution_count": 23,
   "metadata": {},
   "outputs": [],
   "source": [
    "for brand in top_brands: \n",
    "    top_brand_lifts[brand][brand] = 0"
   ]
  },
  {
   "cell_type": "code",
   "execution_count": 24,
   "metadata": {
    "scrolled": true
   },
   "outputs": [
    {
     "data": {
      "text/html": [
       "<div>\n",
       "<style scoped>\n",
       "    .dataframe tbody tr th:only-of-type {\n",
       "        vertical-align: middle;\n",
       "    }\n",
       "\n",
       "    .dataframe tbody tr th {\n",
       "        vertical-align: top;\n",
       "    }\n",
       "\n",
       "    .dataframe thead th {\n",
       "        text-align: right;\n",
       "    }\n",
       "</style>\n",
       "<table border=\"1\" class=\"dataframe\">\n",
       "  <thead>\n",
       "    <tr style=\"text-align: right;\">\n",
       "      <th></th>\n",
       "      <th>honda</th>\n",
       "      <th>ford</th>\n",
       "      <th>toyota</th>\n",
       "      <th>hyundai</th>\n",
       "      <th>mazda</th>\n",
       "      <th>nissan</th>\n",
       "      <th>chevrolet</th>\n",
       "      <th>kia</th>\n",
       "      <th>volkswagen</th>\n",
       "      <th>subaru</th>\n",
       "    </tr>\n",
       "  </thead>\n",
       "  <tbody>\n",
       "    <tr>\n",
       "      <th>honda</th>\n",
       "      <td>0</td>\n",
       "      <td>0.776841</td>\n",
       "      <td>0.455483</td>\n",
       "      <td>0.600709</td>\n",
       "      <td>0.594769</td>\n",
       "      <td>0.497949</td>\n",
       "      <td>0.610368</td>\n",
       "      <td>0.594812</td>\n",
       "      <td>0.579197</td>\n",
       "      <td>0.591592</td>\n",
       "    </tr>\n",
       "    <tr>\n",
       "      <th>ford</th>\n",
       "      <td>0.776841</td>\n",
       "      <td>0</td>\n",
       "      <td>0.517722</td>\n",
       "      <td>0.57022</td>\n",
       "      <td>0.557834</td>\n",
       "      <td>0.411611</td>\n",
       "      <td>0.428162</td>\n",
       "      <td>0.427665</td>\n",
       "      <td>0.485944</td>\n",
       "      <td>0.431561</td>\n",
       "    </tr>\n",
       "    <tr>\n",
       "      <th>toyota</th>\n",
       "      <td>0.455483</td>\n",
       "      <td>0.517722</td>\n",
       "      <td>0</td>\n",
       "      <td>0.393135</td>\n",
       "      <td>0.417479</td>\n",
       "      <td>0.293633</td>\n",
       "      <td>0.377837</td>\n",
       "      <td>0.401378</td>\n",
       "      <td>0.45898</td>\n",
       "      <td>0.351894</td>\n",
       "    </tr>\n",
       "    <tr>\n",
       "      <th>hyundai</th>\n",
       "      <td>0.600709</td>\n",
       "      <td>0.57022</td>\n",
       "      <td>0.393135</td>\n",
       "      <td>0</td>\n",
       "      <td>0.382526</td>\n",
       "      <td>0.30106</td>\n",
       "      <td>0.351476</td>\n",
       "      <td>0.216116</td>\n",
       "      <td>0.292316</td>\n",
       "      <td>0.32638</td>\n",
       "    </tr>\n",
       "    <tr>\n",
       "      <th>mazda</th>\n",
       "      <td>0.594769</td>\n",
       "      <td>0.557834</td>\n",
       "      <td>0.417479</td>\n",
       "      <td>0.382526</td>\n",
       "      <td>0</td>\n",
       "      <td>0.303162</td>\n",
       "      <td>0.333902</td>\n",
       "      <td>0.330929</td>\n",
       "      <td>0.284555</td>\n",
       "      <td>0.26972</td>\n",
       "    </tr>\n",
       "    <tr>\n",
       "      <th>nissan</th>\n",
       "      <td>0.497949</td>\n",
       "      <td>0.411611</td>\n",
       "      <td>0.293633</td>\n",
       "      <td>0.30106</td>\n",
       "      <td>0.303162</td>\n",
       "      <td>0</td>\n",
       "      <td>0.276921</td>\n",
       "      <td>0.262906</td>\n",
       "      <td>0.277164</td>\n",
       "      <td>0.278298</td>\n",
       "    </tr>\n",
       "    <tr>\n",
       "      <th>chevrolet</th>\n",
       "      <td>0.610368</td>\n",
       "      <td>0.428162</td>\n",
       "      <td>0.377837</td>\n",
       "      <td>0.351476</td>\n",
       "      <td>0.333902</td>\n",
       "      <td>0.276921</td>\n",
       "      <td>0</td>\n",
       "      <td>0.267754</td>\n",
       "      <td>0.293962</td>\n",
       "      <td>0.283055</td>\n",
       "    </tr>\n",
       "    <tr>\n",
       "      <th>kia</th>\n",
       "      <td>0.594812</td>\n",
       "      <td>0.427665</td>\n",
       "      <td>0.401378</td>\n",
       "      <td>0.216116</td>\n",
       "      <td>0.330929</td>\n",
       "      <td>0.262906</td>\n",
       "      <td>0.267754</td>\n",
       "      <td>0</td>\n",
       "      <td>0.281073</td>\n",
       "      <td>0.281671</td>\n",
       "    </tr>\n",
       "    <tr>\n",
       "      <th>volkswagen</th>\n",
       "      <td>0.579197</td>\n",
       "      <td>0.485944</td>\n",
       "      <td>0.45898</td>\n",
       "      <td>0.292316</td>\n",
       "      <td>0.284555</td>\n",
       "      <td>0.277164</td>\n",
       "      <td>0.293962</td>\n",
       "      <td>0.281073</td>\n",
       "      <td>0</td>\n",
       "      <td>0.217009</td>\n",
       "    </tr>\n",
       "    <tr>\n",
       "      <th>subaru</th>\n",
       "      <td>0.591592</td>\n",
       "      <td>0.431561</td>\n",
       "      <td>0.351894</td>\n",
       "      <td>0.32638</td>\n",
       "      <td>0.26972</td>\n",
       "      <td>0.278298</td>\n",
       "      <td>0.283055</td>\n",
       "      <td>0.281671</td>\n",
       "      <td>0.217009</td>\n",
       "      <td>0</td>\n",
       "    </tr>\n",
       "  </tbody>\n",
       "</table>\n",
       "</div>"
      ],
      "text/plain": [
       "               honda      ford    toyota   hyundai     mazda    nissan  \\\n",
       "honda              0  0.776841  0.455483  0.600709  0.594769  0.497949   \n",
       "ford        0.776841         0  0.517722   0.57022  0.557834  0.411611   \n",
       "toyota      0.455483  0.517722         0  0.393135  0.417479  0.293633   \n",
       "hyundai     0.600709   0.57022  0.393135         0  0.382526   0.30106   \n",
       "mazda       0.594769  0.557834  0.417479  0.382526         0  0.303162   \n",
       "nissan      0.497949  0.411611  0.293633   0.30106  0.303162         0   \n",
       "chevrolet   0.610368  0.428162  0.377837  0.351476  0.333902  0.276921   \n",
       "kia         0.594812  0.427665  0.401378  0.216116  0.330929  0.262906   \n",
       "volkswagen  0.579197  0.485944   0.45898  0.292316  0.284555  0.277164   \n",
       "subaru      0.591592  0.431561  0.351894   0.32638   0.26972  0.278298   \n",
       "\n",
       "           chevrolet       kia volkswagen    subaru  \n",
       "honda       0.610368  0.594812   0.579197  0.591592  \n",
       "ford        0.428162  0.427665   0.485944  0.431561  \n",
       "toyota      0.377837  0.401378    0.45898  0.351894  \n",
       "hyundai     0.351476  0.216116   0.292316   0.32638  \n",
       "mazda       0.333902  0.330929   0.284555   0.26972  \n",
       "nissan      0.276921  0.262906   0.277164  0.278298  \n",
       "chevrolet          0  0.267754   0.293962  0.283055  \n",
       "kia         0.267754         0   0.281073  0.281671  \n",
       "volkswagen  0.293962  0.281073          0  0.217009  \n",
       "subaru      0.283055  0.281671   0.217009         0  "
      ]
     },
     "execution_count": 24,
     "metadata": {},
     "output_type": "execute_result"
    }
   ],
   "source": [
    "top_brand_lifts"
   ]
  },
  {
   "cell_type": "code",
   "execution_count": 25,
   "metadata": {},
   "outputs": [
    {
     "name": "stderr",
     "output_type": "stream",
     "text": [
     ]
    }
   ],
   "source": [
    "mds = manifold.MDS(dissimilarity='euclidean')\n",
    "mds_fit = mds.fit(top_brand_lifts)\n",
    "coords = mds.fit_transform(top_brand_lifts)"
   ]
  },
  {
   "cell_type": "code",
   "execution_count": 26,
   "metadata": {},
   "outputs": [
    {
     "data": {
      "text/plain": [
       "Text(0.5, 1.0, 'Multidimensional Scaling: Top 10 Brands \\n (Euclidean Distances = 1 / lift)')"
      ]
     },
     "execution_count": 26,
     "metadata": {},
     "output_type": "execute_result"
    },
    {
     "data": {
      "image/png": "[encoded data removed]",
      "text/plain": [
       "<Figure size 720x720 with 1 Axes>"
      ]
     },
     "metadata": {},
     "output_type": "display_data"
    }
   ],
   "source": [
    "x,y = coords.T\n",
    "\n",
    "plt.figure(figsize=(10, 10))\n",
    "plt.scatter(x,y)\n",
    "\n",
    "for i, txt in enumerate(top_brands):\n",
    "    plt.annotate(txt, (x[i], y[i]), xycoords='data',\n",
    "             xytext=(20, -20), textcoords='offset points',\n",
    "             size=13, ha='right', va=\"center\",\n",
    "             bbox=dict(boxstyle=\"round\", alpha=0.1),\n",
    "             arrowprops=dict(arrowstyle=\"wedge,tail_width=0.5\", alpha=0.1))\n",
    "    \n",
    "plt.yticks([])\n",
    "plt.xticks([])\n",
    "plt.title('Multidimensional Scaling: Top 10 Brands \\n (Euclidean Distances = 1 / lift)')\n"
   ]
  },
  {
   "cell_type": "markdown",
   "metadata": {},
   "source": [
    "## Advice and Insights"
   ]
  },
  {
   "cell_type": "markdown",
   "metadata": {},
   "source": [
    "### Task B : What insights can you offer brand managers from your analysis in Task A (choose two brands that you can offer the most interesting/useful insights for)?  "
   ]
  },
  {
   "cell_type": "markdown",
   "metadata": {},
   "source": [
    "The brands with the highest common lift are Hyundai and Kia with the _**lift value equal to 4.29**_, which turns out to be the highest between any 2 combinations among the top 10 brands. The frequency of occurrence of Hyundai is 887 and that of Kia is 522 among the total posts and comments scraped.\n",
    "\n",
    "Digging deeper to understand the co-occurrence of these brands in comments, we realized that Kia and Hyundai, both belong to the same parent company. Hyundai and Kia are both leading car manufacturers from South Korea. Hyundai Motors bought a 51% stake of Kia Motors in 1998 when the latter declared bankruptcy. \n",
    "\n",
    "The numbers suggest that customers closely associate the two car brands together. Brand managers of the two sister companies must focus on _**differentiating the customer sentiment**_ associated with each brand. In the long run, this could lead to brand cannibalism where the brands would be competing for market share. The management must focus more on driving advertising and marketing campaigns to spread awareness about each of these brands in a unique manner. \n",
    "\n",
    "Another way to improve brand differentiation is by _**focusing on product features**_ specifically intended for targeted customer segments. This would not only change customer perception but also help carve out two niche markets for each of these brands, which the parent company would benefit from. Hyundai is typically known for its reasonably well-sized cars with luxury interiors. They could build on top of existing features making their cars attractive for the older generation who are more focused on quality and comfort. Kia is known for its sporty design, yet affordable prices meant for the younger generation. _**Driving digital marketing campaigns, rallies and concerts for Kia customers would help establish brand loyalty among the millennials and Gen-Z.**_"
   ]
  },
  {
   "cell_type": "markdown",
   "metadata": {},
   "source": [
    "## Measure & Consolidate Frequently Occuring Attributes"
   ]
  },
  {
   "cell_type": "code",
   "execution_count": 29,
   "metadata": {
    "scrolled": true
   },
   "outputs": [],
   "source": [
    "#Initialize empty dictionary \n",
    "all_words_dict = dict()\n",
    "\n",
    "#Iterate over each row of tokens and track frequency in the 'words_dict' dictionary\n",
    "for row in comments['Tokens']:\n",
    "    list_row = list(row) #Set --> List\n",
    "    for word in row:\n",
    "        word = word.lower() #Remove any capitalization\n",
    "        if word in all_words_dict:\n",
    "            all_words_dict[word] += 1\n",
    "        else:\n",
    "            all_words_dict[word] = 1"
   ]
  },
  {
   "cell_type": "code",
   "execution_count": 30,
   "metadata": {},
   "outputs": [],
   "source": [
    "# k = Counter(all_words_dict) \n",
    "# k.most_common(200) \n",
    "# Based on the first 200 words by frequency, the most frequently mentioned attributes are:\n",
    "freq_attrib = ['ride','transmission','mpg','miles','gas','fuel',\n",
    "               'mileage','engine','big','little','size','small',\n",
    "               'price','deal','money','cost','msrp','cheap','warranty',\n",
    "               'turbo','power','sport','speed','hp','interior','seat',\n",
    "               'seats','comfortable','room','epa','emissions','fun',\n",
    "               'performance','tires','wheels','wheel','awd','design',\n",
    "               'visibility']\n",
    "new_freq = pd.DataFrame(columns=top_brands, index=freq_attrib)\n",
    "#new_freq"
   ]
  },
  {
   "cell_type": "code",
   "execution_count": 25,
   "metadata": {},
   "outputs": [],
   "source": [
    "#Run lift calculations for attributes in freq_attrib to decide which attribtes to map together. \n",
    "#This was used to create attribute_map.csv\n",
    "#This code was commented out because it is slow to run\n",
    "\n",
    "# for brand in top_brands:\n",
    "#     for attrib in freq_attrib:\n",
    "#         try:\n",
    "#             new_freq[brand][attrib] = liftCalc(brand,attrib)\n",
    "#         except: \n",
    "#             new_freq[brand][attrib] = 'N/A'\n",
    "\n",
    "# Create table of lift calculations of attributes with brands\n",
    "# new_freq"
   ]
  },
  {
   "cell_type": "code",
   "execution_count": 31,
   "metadata": {
    "scrolled": true
   },
   "outputs": [],
   "source": [
    "#Read in CSV of attributes to map\n",
    "attribute_map = pd.read_csv('attribute_map.csv', header=None)\n",
    "attribute_map.columns =['key','attribute']\n",
    "attributes = set(attribute_map['attribute'].to_list())\n",
    "keys = set(attribute_map['key'].to_list())"
   ]
  },
  {
   "cell_type": "code",
   "execution_count": 32,
   "metadata": {},
   "outputs": [],
   "source": [
    "def attribute_cleaner(row):\n",
    "    clean_tokens = []\n",
    "    for word in row:\n",
    "        if word in keys: \n",
    "            word = attribute_map['attribute'][attribute_map['key']==word].tolist()[0]\n",
    "            clean_tokens.append(word)\n",
    "        else: \n",
    "            clean_tokens.append(word)\n",
    "    return clean_tokens\n",
    "\n",
    "comments['Tokens'] = comments['Tokens'].apply(attribute_cleaner)"
   ]
  },
  {
   "cell_type": "code",
   "execution_count": 33,
   "metadata": {},
   "outputs": [],
   "source": [
    "att_lift = pd.DataFrame(columns=top_brands, index=attributes)\n",
    "\n",
    "for brand in top_brands:\n",
    "    for attrib in attributes:\n",
    "        try:\n",
    "            att_lift[brand][attrib] = liftCalc(brand,attrib)\n",
    "        except: \n",
    "            att_lift[brand][attrib] = 'N/A'\n",
    "\n",
    "#att_lift is a DF of all the attributes which were considered, not just the top 5\n",
    "#att_lift"
   ]
  },
  {
   "cell_type": "code",
   "execution_count": 34,
   "metadata": {},
   "outputs": [],
   "source": [
    "#write final DataFrame to csv for data file with all brands and attributes mapped\n",
    "#comments.to_csv('Edmunds_After_Replacements.csv')"
   ]
  },
  {
   "cell_type": "markdown",
   "metadata": {},
   "source": [
    "## Top 5 Attributes &  Top 5 Brands Lift Values"
   ]
  },
  {
   "cell_type": "code",
   "execution_count": 35,
   "metadata": {},
   "outputs": [
    {
     "data": {
      "text/html": [
       "<style  type=\"text/css\" >\n",
       "    #T_f47fa74c_0271_11ea_be1e_b82a72b1a149row1_col4 {\n",
       "            background:  yellow;\n",
       "        }    #T_f47fa74c_0271_11ea_be1e_b82a72b1a149row2_col2 {\n",
       "            background:  yellow;\n",
       "        }    #T_f47fa74c_0271_11ea_be1e_b82a72b1a149row2_col3 {\n",
       "            background:  yellow;\n",
       "        }    #T_f47fa74c_0271_11ea_be1e_b82a72b1a149row3_col3 {\n",
       "            background:  yellow;\n",
       "        }    #T_f47fa74c_0271_11ea_be1e_b82a72b1a149row4_col2 {\n",
       "            background:  yellow;\n",
       "        }    #T_f47fa74c_0271_11ea_be1e_b82a72b1a149row4_col3 {\n",
       "            background:  yellow;\n",
       "        }</style><table id=\"T_f47fa74c_0271_11ea_be1e_b82a72b1a149\" ><thead>    <tr>        <th class=\"blank level0\" ></th>        <th class=\"col_heading level0 col0\" >honda</th>        <th class=\"col_heading level0 col1\" >ford</th>        <th class=\"col_heading level0 col2\" >toyota</th>        <th class=\"col_heading level0 col3\" >hyundai</th>        <th class=\"col_heading level0 col4\" >mazda</th>    </tr></thead><tbody>\n",
       "                <tr>\n",
       "                        <th id=\"T_f47fa74c_0271_11ea_be1e_b82a72b1a149level0_row0\" class=\"row_heading level0 row0\" >fuel economy</th>\n",
       "                        <td id=\"T_f47fa74c_0271_11ea_be1e_b82a72b1a149row0_col0\" class=\"data row0 col0\" >1.34832</td>\n",
       "                        <td id=\"T_f47fa74c_0271_11ea_be1e_b82a72b1a149row0_col1\" class=\"data row0 col1\" >1.31546</td>\n",
       "                        <td id=\"T_f47fa74c_0271_11ea_be1e_b82a72b1a149row0_col2\" class=\"data row0 col2\" >1.19085</td>\n",
       "                        <td id=\"T_f47fa74c_0271_11ea_be1e_b82a72b1a149row0_col3\" class=\"data row0 col3\" >1.58393</td>\n",
       "                        <td id=\"T_f47fa74c_0271_11ea_be1e_b82a72b1a149row0_col4\" class=\"data row0 col4\" >1.28457</td>\n",
       "            </tr>\n",
       "            <tr>\n",
       "                        <th id=\"T_f47fa74c_0271_11ea_be1e_b82a72b1a149level0_row1\" class=\"row_heading level0 row1\" >performance</th>\n",
       "                        <td id=\"T_f47fa74c_0271_11ea_be1e_b82a72b1a149row1_col0\" class=\"data row1 col0\" >1.4588</td>\n",
       "                        <td id=\"T_f47fa74c_0271_11ea_be1e_b82a72b1a149row1_col1\" class=\"data row1 col1\" >1.42174</td>\n",
       "                        <td id=\"T_f47fa74c_0271_11ea_be1e_b82a72b1a149row1_col2\" class=\"data row1 col2\" >1.19535</td>\n",
       "                        <td id=\"T_f47fa74c_0271_11ea_be1e_b82a72b1a149row1_col3\" class=\"data row1 col3\" >1.22556</td>\n",
       "                        <td id=\"T_f47fa74c_0271_11ea_be1e_b82a72b1a149row1_col4\" class=\"data row1 col4\" >1.89322</td>\n",
       "            </tr>\n",
       "            <tr>\n",
       "                        <th id=\"T_f47fa74c_0271_11ea_be1e_b82a72b1a149level0_row2\" class=\"row_heading level0 row2\" >interior</th>\n",
       "                        <td id=\"T_f47fa74c_0271_11ea_be1e_b82a72b1a149row2_col0\" class=\"data row2 col0\" >1.65112</td>\n",
       "                        <td id=\"T_f47fa74c_0271_11ea_be1e_b82a72b1a149row2_col1\" class=\"data row2 col1\" >1.37617</td>\n",
       "                        <td id=\"T_f47fa74c_0271_11ea_be1e_b82a72b1a149row2_col2\" class=\"data row2 col2\" >1.81924</td>\n",
       "                        <td id=\"T_f47fa74c_0271_11ea_be1e_b82a72b1a149row2_col3\" class=\"data row2 col3\" >1.8265</td>\n",
       "                        <td id=\"T_f47fa74c_0271_11ea_be1e_b82a72b1a149row2_col4\" class=\"data row2 col4\" >1.78163</td>\n",
       "            </tr>\n",
       "            <tr>\n",
       "                        <th id=\"T_f47fa74c_0271_11ea_be1e_b82a72b1a149level0_row3\" class=\"row_heading level0 row3\" >financing</th>\n",
       "                        <td id=\"T_f47fa74c_0271_11ea_be1e_b82a72b1a149row3_col0\" class=\"data row3 col0\" >1.49144</td>\n",
       "                        <td id=\"T_f47fa74c_0271_11ea_be1e_b82a72b1a149row3_col1\" class=\"data row3 col1\" >1.17208</td>\n",
       "                        <td id=\"T_f47fa74c_0271_11ea_be1e_b82a72b1a149row3_col2\" class=\"data row3 col2\" >1.53926</td>\n",
       "                        <td id=\"T_f47fa74c_0271_11ea_be1e_b82a72b1a149row3_col3\" class=\"data row3 col3\" >1.81724</td>\n",
       "                        <td id=\"T_f47fa74c_0271_11ea_be1e_b82a72b1a149row3_col4\" class=\"data row3 col4\" >1.21134</td>\n",
       "            </tr>\n",
       "            <tr>\n",
       "                        <th id=\"T_f47fa74c_0271_11ea_be1e_b82a72b1a149level0_row4\" class=\"row_heading level0 row4\" >comfort</th>\n",
       "                        <td id=\"T_f47fa74c_0271_11ea_be1e_b82a72b1a149row4_col0\" class=\"data row4 col0\" >1.44976</td>\n",
       "                        <td id=\"T_f47fa74c_0271_11ea_be1e_b82a72b1a149row4_col1\" class=\"data row4 col1\" >1.48526</td>\n",
       "                        <td id=\"T_f47fa74c_0271_11ea_be1e_b82a72b1a149row4_col2\" class=\"data row4 col2\" >2.0489</td>\n",
       "                        <td id=\"T_f47fa74c_0271_11ea_be1e_b82a72b1a149row4_col3\" class=\"data row4 col3\" >2.18519</td>\n",
       "                        <td id=\"T_f47fa74c_0271_11ea_be1e_b82a72b1a149row4_col4\" class=\"data row4 col4\" >1.74314</td>\n",
       "            </tr>\n",
       "    </tbody></table>"
      ],
      "text/plain": [
       "<pandas.io.formats.style.Styler at 0x2b12fa297f0>"
      ]
     },
     "execution_count": 35,
     "metadata": {},
     "output_type": "execute_result"
    }
   ],
   "source": [
    "#Top 5 Attributes were Chosen by Frequency\n",
    "top5attributes = ['fuel economy','performance','interior','financing','comfort']\n",
    "att_lift2 = att_lift.loc[top5attributes][top_brands[0:5]]\n",
    "att_lift2.style.apply(lambda x: [\"background: yellow\" if v > 1.8 else \"\" for v in x], axis = 1)"
   ]
  },
  {
   "cell_type": "markdown",
   "metadata": {},
   "source": [
    "### Task D: What advice will you give to a (i) product manager, and (ii) marketing/advertising manager of these brands based on your analysis in Task C? For this assignment, you can assume the sentiment (e.g., that it is positive). "
   ]
  },
  {
   "cell_type": "markdown",
   "metadata": {},
   "source": [
    "### Product Managers\n",
    "##### Honda:\n",
    "Honda has a low lift for “comfort” and “interior” compared to a Toyota or a Hyundai. All three brands compete in the space in the market, but our analysis shows that customers perceive Toyota and Hyundai sedans  as confortable cars having pleasant interiors. Product managers for Honda's upcoming model years should **focus on improving the quality of their models' interiors**, paying particular attention to features like more leg room, quiet cabins, and sufficient head room for tall passengers. Addressing buyers' lack of enthusiasm about interiors and comfort will help Honda to be more competitive and bring them on par with their competitors.\n",
    "\n",
    "##### Ford:\n",
    "Ford was the second most frequently mentioned maker in the midsize sedans forum, but it scores low on every attribute association compared to the other top brands. This does not mean that people strongly dislike Ford cars, but instead that there is ambivalence and a lack of association with Ford and any given attribute. It seems to suggest that **public perception of Ford cars is somewhat bland**. In order to increase passion for Ford cars, a product manager at Ford, can afford to **take more risks** in their approach to building future models, **innovating their design and improving performance and comfort**. In a highly competitive market, if Ford wants to maintain its popularity it will have to generate more enthusiasm in future buyers. Otherwise, there is a high probability that customers could move on to purchase other brands that are highly associated with the attributes that they desire."
   ]
  },
  {
   "cell_type": "markdown",
   "metadata": {},
   "source": [
    "### Marketing/Advertising Managers\n",
    "##### Mazda: \n",
    "Mazda stands out above the competition in its association with performance in discussions on Edmunds. When people mention Mazda in their posts, they are more likely to also use words like **“power”, “speed”, “engine” and “turbo,”** among others. Mazda can capitalize on this association by advertising to this strength. People already perceive Mazda cars as sporty and fun to drive, so they should exploit this public opinion by **targeting their advertising to young potential buyers and older mid-life-crisis buyers**. Buyers looking for high performance cars may not place as high importance on fuel economy, so Mazda should not worry about slightly lower lift values for fuel economy. However, if it has cars with fuel economy that is similar to other makers, it might be able to **gain market share by advertising that it is able to maintain top performance and fuel economy**. \n",
    "\n",
    "##### Toyota:\n",
    "Toyota has a low lift value in “fuel economy” compared to a Hyundai, and the lowest \"fuel economy\" lift of any brand in the top 5. This means that people don’t strongly associate Toyota with fuel economy. This is does not reflect differences in these brands' products: in reality, gas mileage for Hyundai and Toyota models are similar as per car specifications. For example, the 2019 Toyota Corolla gets 32 combined miles per gallon (MPG), while the 2019 Hyundai Elantra gets only 28 combined MPG. **The Toyota car is actually superior to Hyundai in MPG**, but this advantage is not perceived by the end customer. Therefore, Marketing and Advertising managers for Toyota should focus in their upcoming campaigns to **project a fuel-efficient image of Toyota**."
   ]
  },
  {
   "cell_type": "markdown",
   "metadata": {},
   "source": [
    "## Define \"Aspirational\" Words and Find \"Aspirational\" Brands "
   ]
  },
  {
   "cell_type": "code",
   "execution_count": 37,
   "metadata": {},
   "outputs": [],
   "source": [
    "comments = pd.read_csv('Edmunds_scraped2.0.csv',  index_col=0)\n",
    "comments.dropna(inplace=True)\n",
    "comments['Tokens2'] = comments['comments'].apply(nltk.tokenize.word_tokenize)"
   ]
  },
  {
   "cell_type": "code",
   "execution_count": 38,
   "metadata": {},
   "outputs": [],
   "source": [
    "def lower_func(row):\n",
    "    list_row = list(row)\n",
    "    token=[]\n",
    "    for word in list_row:\n",
    "        word=word.lower()\n",
    "        if word in models_list: #Change any models that appear to their corresponding Brands\n",
    "            word = models['Make'][models['Model']==word].tolist()[0]\n",
    "            if word not in token:\n",
    "                token.append(word) \n",
    "        else: \n",
    "                token.append(word) \n",
    "    return token\n",
    "\n",
    "comments['Tokens2'] = comments['Tokens2'].apply(lower_func)"
   ]
  },
  {
   "cell_type": "code",
   "execution_count": 39,
   "metadata": {},
   "outputs": [],
   "source": [
    "def attach_together(token_list):\n",
    "    r=''\n",
    "    for each in token_list:\n",
    "        r=r+'' + each + ' '\n",
    "    return r\n",
    "\n",
    "comments['Attached_Tokens'] = comments['Tokens2'].apply(attach_together)"
   ]
  },
  {
   "cell_type": "markdown",
   "metadata": {},
   "source": [
    "**The aspirational phrases were identified by reading a bunch of comments from the ones we scrapped to get an idea of how people were displaying aspiration (and some intuition). We compiled the below 'aspirations' list using the most common phrases that we found.**\n",
    "\n",
    "**Each aspirational phrase was replaced in the comments with a phrase(\"aspirations_find_out\"). The most aspirational brand was the one that had the highest lift value with this phrase.**"
   ]
  },
  {
   "cell_type": "code",
   "execution_count": 40,
   "metadata": {},
   "outputs": [],
   "source": [
    "aspirations=['desire to','desirable','fancy car','eager to buy','would like to buy','love to have','dream car','really want','future car','dream of',\"cant wait to buy\",'would love to buy','wish to buy','want to buy','aspire to','future car','thinking to buy','love to buy','want to own','love to own','like to own','have to own','nice to own','nice to buy','have to buy','would love to buy','would like to buy','wish to own','looking to buy','looking forward to buy']\n",
    "unique_brands=list(set(models.Make.values))"
   ]
  },
  {
   "cell_type": "code",
   "execution_count": 41,
   "metadata": {},
   "outputs": [],
   "source": [
    "#Define a function that will calculate Lift based on new tokens\n",
    "def liftCalc_aspiration(word_1,word_2):\n",
    "  \n",
    "    w1freq = sum(comments.apply(lambda x: word_1 in x.Attached_Tokens_Tokenized, axis=1))\n",
    "    w2freq = sum(comments.apply(lambda x: word_2 in x.Attached_Tokens_Tokenized, axis=1))\n",
    "    bothfreq = sum(comments.apply(lambda x: word_1 in x.Attached_Tokens_Tokenized and word_2 in x.Attached_Tokens_Tokenized, axis=1))\n",
    "    try:\n",
    "        return float(bothfreq/len(comments))/((float(w1freq)/len(comments))*(float(w2freq)/len(comments)))\n",
    "    except:\n",
    "        return 0"
   ]
  },
  {
   "cell_type": "code",
   "execution_count": 42,
   "metadata": {},
   "outputs": [],
   "source": [
    "def find_aspirations(each_at):\n",
    "  #print(each_at)\n",
    "\n",
    "    for each_aspiration in aspirations:\n",
    "        if each_aspiration in each_at:\n",
    "            for brand in unique_brands:\n",
    "                if brand in each_at:\n",
    "                    each_at=each_at.replace(each_aspiration,'aspirations_find_out')          \n",
    "                    #print(brand,each_aspiration) \n",
    "    return each_at\n",
    "\n",
    "comments.Attached_Tokens=comments.Attached_Tokens.apply(find_aspirations)\n",
    "comments['Attached_Tokens_Tokenized']=comments.Attached_Tokens.apply(nltk.tokenize.word_tokenize)"
   ]
  },
  {
   "cell_type": "markdown",
   "metadata": {},
   "source": [
    "## \"Most Aspirational\" Brands and Lift Values"
   ]
  },
  {
   "cell_type": "code",
   "execution_count": 43,
   "metadata": {},
   "outputs": [
    {
     "name": "stdout",
     "output_type": "stream",
     "text": [
      "\n",
      " \u001b[1mBMW is the \"Most Aspirational\" Brand \u001b[0m\n",
      "\n",
      " Brands and Lift Values:\n"
     ]
    },
    {
     "data": {
      "text/html": [
       "<div>\n",
       "<style scoped>\n",
       "    .dataframe tbody tr th:only-of-type {\n",
       "        vertical-align: middle;\n",
       "    }\n",
       "\n",
       "    .dataframe tbody tr th {\n",
       "        vertical-align: top;\n",
       "    }\n",
       "\n",
       "    .dataframe thead th {\n",
       "        text-align: right;\n",
       "    }\n",
       "</style>\n",
       "<table border=\"1\" class=\"dataframe\">\n",
       "  <thead>\n",
       "    <tr style=\"text-align: right;\">\n",
       "      <th></th>\n",
       "      <th>Brand</th>\n",
       "      <th>Lift</th>\n",
       "    </tr>\n",
       "  </thead>\n",
       "  <tbody>\n",
       "    <tr>\n",
       "      <th>0</th>\n",
       "      <td>bmw</td>\n",
       "      <td>3.486695</td>\n",
       "    </tr>\n",
       "    <tr>\n",
       "      <th>1</th>\n",
       "      <td>audi</td>\n",
       "      <td>2.985012</td>\n",
       "    </tr>\n",
       "    <tr>\n",
       "      <th>2</th>\n",
       "      <td>hyundai</td>\n",
       "      <td>2.937463</td>\n",
       "    </tr>\n",
       "    <tr>\n",
       "      <th>3</th>\n",
       "      <td>toyota</td>\n",
       "      <td>2.554207</td>\n",
       "    </tr>\n",
       "    <tr>\n",
       "      <th>4</th>\n",
       "      <td>dodge</td>\n",
       "      <td>2.499498</td>\n",
       "    </tr>\n",
       "    <tr>\n",
       "      <th>5</th>\n",
       "      <td>mazda</td>\n",
       "      <td>2.481559</td>\n",
       "    </tr>\n",
       "    <tr>\n",
       "      <th>6</th>\n",
       "      <td>acura</td>\n",
       "      <td>2.412306</td>\n",
       "    </tr>\n",
       "    <tr>\n",
       "      <th>7</th>\n",
       "      <td>nissan</td>\n",
       "      <td>2.127778</td>\n",
       "    </tr>\n",
       "    <tr>\n",
       "      <th>8</th>\n",
       "      <td>subaru</td>\n",
       "      <td>2.060844</td>\n",
       "    </tr>\n",
       "    <tr>\n",
       "      <th>9</th>\n",
       "      <td>honda</td>\n",
       "      <td>2.039618</td>\n",
       "    </tr>\n",
       "    <tr>\n",
       "      <th>10</th>\n",
       "      <td>kia</td>\n",
       "      <td>1.835914</td>\n",
       "    </tr>\n",
       "    <tr>\n",
       "      <th>11</th>\n",
       "      <td>ford</td>\n",
       "      <td>1.806229</td>\n",
       "    </tr>\n",
       "    <tr>\n",
       "      <th>12</th>\n",
       "      <td>chrysler</td>\n",
       "      <td>1.037292</td>\n",
       "    </tr>\n",
       "    <tr>\n",
       "      <th>13</th>\n",
       "      <td>volkswagen</td>\n",
       "      <td>0.644281</td>\n",
       "    </tr>\n",
       "    <tr>\n",
       "      <th>14</th>\n",
       "      <td>chevrolet</td>\n",
       "      <td>0.592738</td>\n",
       "    </tr>\n",
       "  </tbody>\n",
       "</table>\n",
       "</div>"
      ],
      "text/plain": [
       "         Brand      Lift\n",
       "0          bmw  3.486695\n",
       "1         audi  2.985012\n",
       "2      hyundai  2.937463\n",
       "3       toyota  2.554207\n",
       "4        dodge  2.499498\n",
       "5        mazda  2.481559\n",
       "6        acura  2.412306\n",
       "7       nissan  2.127778\n",
       "8       subaru  2.060844\n",
       "9        honda  2.039618\n",
       "10         kia  1.835914\n",
       "11        ford  1.806229\n",
       "12    chrysler  1.037292\n",
       "13  volkswagen  0.644281\n",
       "14   chevrolet  0.592738"
      ]
     },
     "metadata": {},
     "output_type": "display_data"
    }
   ],
   "source": [
    "d = {} \n",
    "for brand in unique_brands:\n",
    "    lift=liftCalc_aspiration(brand,'aspirations_find_out')\n",
    "    if lift>0:\n",
    "        d[brand]=lift\n",
    "\n",
    "sorted_d= sorted(d.items(), key=operator.itemgetter(1),reverse=True)\n",
    "\n",
    "df_aspiration = pd.DataFrame(sorted_d,columns=['Brand','Lift'])\n",
    "\n",
    "print('\\n \\033[1m' + 'BMW is the \"Most Aspirational\" Brand ' + '\\033[0m')\n",
    "print('\\n Brands and Lift Values:')\n",
    "display(df_aspiration)"
   ]
  },
  {
   "cell_type": "markdown",
   "metadata": {},
   "source": [
    "### Task E: Which is the most aspirational brand in your data in terms of people actually wanting to buy or own? Describe your analysis. What are the business implications for this brand?"
   ]
  },
  {
   "cell_type": "markdown",
   "metadata": {},
   "source": [
    "BMW appears to be the most aspirational car brand in the mid-size sedan segment followed closely by its German counterpart Audi. _**BMW has a lift value of 3.48 and Audi has a lift value of 2.98 in association with aspirational customer sentiment. Next in the list are Hyundai and Toyota, leading Asian car manufacturers.**_ Hyundai and Toyota's appearance so high on the list was surprising, but may confirm the popular belief that American car buyers are not very brand conscious.\n",
    "\n",
    "The low co-occurrence of other brands and aspirational phrases reflects their market positions as reliable economy cars, not luxury mid-sized sedans which people \"aspire to own\". Even if they offer higher-end product features, _**the brand image for BMW and Audi are superior from customers' perspectives**_.\n",
    "Honda, Kia, Ford, Volkswagen appear further down in the list. These brands are considered family-oriented cars with a strong focus on safety and comfort, while being affordable. \n",
    "\n",
    "We have included phrases such as **‘wish to own’, ‘wish to buy’, ‘want to buy’, ’looking to buy’, ‘desire to buy’, ‘dream car’, ‘have to own’, ‘future car’, ‘want to own’, ‘desirable’**, etc. as aspirational words. These words were picked after ensuring that a sample of comments retrieved for a given phrase displayed strong aspiration or wistful intent to buy a car of a certain make or model.\n"
   ]
  }
 ],
 "metadata": {
  "kernelspec": {
   "display_name": "Python 3",
   "language": "python",
   "name": "python3"
  },
  "language_info": {
   "codemirror_mode": {
    "name": "ipython",
    "version": 3
   },
   "file_extension": ".py",
   "mimetype": "text/x-python",
   "name": "python",
   "nbconvert_exporter": "python",
   "pygments_lexer": "ipython3",
   "version": "3.7.3"
  }
 },
 "nbformat": 4,
 "nbformat_minor": 2
}
